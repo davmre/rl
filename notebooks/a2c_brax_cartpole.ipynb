{
 "cells": [
  {
   "cell_type": "code",
   "execution_count": 1,
   "metadata": {},
   "outputs": [],
   "source": [
    "import dataclasses\n",
    "import functools\n",
    "\n",
    "import jax\n",
    "from jax import numpy as jnp\n",
    "import numpy as np\n",
    "\n",
    "from flax import linen\n",
    "from flax import struct\n",
    "import optax\n",
    "from tensorflow_probability.substrates import jax as tfp\n",
    "\n",
    "tfb = tfp.bijectors\n",
    "tfd = tfp.distributions\n",
    "\n",
    "from brax import envs as brax_envs\n",
    "from matplotlib import pylab as plt\n",
    "\n",
    "import daves_rl_lib\n",
    "from daves_rl_lib import drivers\n",
    "from daves_rl_lib import networks\n",
    "from daves_rl_lib.algorithms import advantage_actor_critic\n",
    "from daves_rl_lib.environments import environment_lib\n",
    "from daves_rl_lib.internal import util"
   ]
  },
  {
   "cell_type": "code",
   "execution_count": 2,
   "metadata": {},
   "outputs": [],
   "source": [
    "batch_size = 256\n",
    "discount_factor = 0.999\n",
    "entropy_regularization = 1.0\n",
    "steps_per_update = 20\n",
    "seed = jax.random.PRNGKey(0)"
   ]
  },
  {
   "cell_type": "code",
   "execution_count": 3,
   "metadata": {},
   "outputs": [],
   "source": [
    "brax_env = brax_envs.create('inverted_pendulum', episode_length=500)\n",
    "\n",
    "# Wrap environment to terminate if the cart goes out of bounds (like OpenAI\n",
    "# gym's cartpole).\n",
    "original_step = brax_env.step\n",
    "def step_with_pos_check(state, action, bound=4.):\n",
    "    new_state = original_step(state, action)\n",
    "    return dataclasses.replace(new_state,\n",
    "                               done=jnp.logical_or(\n",
    "                                   new_state.done,\n",
    "                                   jnp.abs(new_state.obs[..., 0]) > bound))\n",
    "brax_env.step = step_with_pos_check\n",
    "\n",
    "# Work around tracer conversion errors (potential brax bug).\n",
    "brax_env.reset = jax.jit(brax_env.reset)\n",
    "brax_env.step = jax.jit(brax_env.step)\n",
    "\n",
    "env = environment_lib.BRAXEnvironment(\n",
    "    brax_env,\n",
    "    discount_factor=discount_factor)"
   ]
  },
  {
   "cell_type": "code",
   "execution_count": 4,
   "metadata": {},
   "outputs": [],
   "source": [
    "# Categorical policy produces output vectors [-1.] or [1.].\n",
    "def categorical_vector_from_logits(logits):\n",
    "    cat = tfp.distributions.Categorical(logits=logits, dtype=logits.dtype)\n",
    "    dist = tfp.bijectors.Chain([\n",
    "        tfp.bijectors.Reshape(event_shape_out=[1], event_shape_in=[]),\n",
    "        tfp.bijectors.Shift(-1.),\n",
    "        tfp.bijectors.Scale(2.)])(cat)\n",
    "    dist.entropy = cat.entropy\n",
    "    return dist\n",
    "\n",
    "agent = advantage_actor_critic.A2CAgent(\n",
    "    policy_net = networks.make_model(\n",
    "                [24, 24, 2],\n",
    "                obs_size=env.observation_size,\n",
    "                activate_final=categorical_vector_from_logits),\n",
    "    value_net = networks.make_model([24, 24, 1], obs_size=env.observation_size),\n",
    "    policy_optimizer = optax.adam(1e-2),\n",
    "    value_optimizer = optax.adam(3e-2),\n",
    "    steps_per_update=steps_per_update,\n",
    "    entropy_regularization=entropy_regularization,\n",
    "    discount_factor=discount_factor)"
   ]
  },
  {
   "cell_type": "code",
   "execution_count": 5,
   "metadata": {},
   "outputs": [],
   "source": [
    "weights = agent.init_weights(\n",
    "    batch_size=batch_size,\n",
    "    seed=seed,\n",
    "    dummy_observation=env.reset(seed=seed).observation,\n",
    "    dummy_action=env.action_space.dummy_action())"
   ]
  },
  {
   "cell_type": "code",
   "execution_count": 6,
   "metadata": {},
   "outputs": [
    {
     "name": "stdout",
     "output_type": "stream",
     "text": [
      "Prior to training:\n",
      "Values of initial states: SummaryStats(mean='-3.0360625e-06', std='0.0006861618', median='-3.1457017e-05', min='-0.001162981', max='0.0011566859')\n",
      "Values of 'dangerous' states: SummaryStats(mean='-0.11491199', std='0.00084440905', median='-0.11491507', min='-0.116825186', max='-0.11301992')\n"
     ]
    }
   ],
   "source": [
    "states = env.reset(seed=seed, batch_size=batch_size)\n",
    "\n",
    "initial_observations = states.observation\n",
    "dangerous_states = initial_observations + jnp.array([3.9, 0., 0., 0.])\n",
    "\n",
    "initial_values = agent.value_net.apply(weights.agent_weights.value_weights, initial_observations)\n",
    "dangerous_state_values = agent.value_net.apply(weights.agent_weights.value_weights, dangerous_states)\n",
    "\n",
    "print(\"Prior to training:\")\n",
    "print(\"Values of initial states:\", util.format_summary(initial_values))\n",
    "print(\"Values of 'dangerous' states:\", util.format_summary(dangerous_state_values))"
   ]
  },
  {
   "cell_type": "code",
   "execution_count": 7,
   "metadata": {},
   "outputs": [],
   "source": [
    "\n",
    "step_fn = jax.jit(drivers.jax_driver(env, agent))"
   ]
  },
  {
   "cell_type": "code",
   "execution_count": 8,
   "metadata": {},
   "outputs": [
    {
     "name": "stdout",
     "output_type": "stream",
     "text": [
      "state values Traced<ShapedArray(float32[20])>with<JVPTrace(level=4/1)> with\n",
      "  primal = Traced<ShapedArray(float32[20])>with<BatchTrace(level=2/1)> with\n",
      "    val = Traced<ShapedArray(float32[256,20])>with<DynamicJaxprTrace(level=1/1)>\n",
      "    batch_dim = 0\n",
      "  tangent = Traced<ShapedArray(float32[20])>with<JaxprTrace(level=3/1)> with\n",
      "    pval = (ShapedArray(float32[20]), *)\n",
      "    recipe = JaxprEqnRecipe(eqn_id=<object object at 0x7fc580493740>, invars=(Traced<ShapedArray(float32[20]):JaxprTrace(level=3/1)>,), outvars=[<weakref at 0x7fc5806a0950; to 'JaxprTracer' at 0x7fc5806afb80>], primitive=broadcast_in_dim, params={'shape': (20,), 'broadcast_dimensions': (0,)}, source_info=SourceInfo(traceback=<jaxlib.xla_extension.Traceback object at 0x7fc5817ae3f0>, name_stack=NameStack(stack=(Transform(name='jvp'),))))\n"
     ]
    }
   ],
   "source": [
    "compute_policy_entropy = jax.jit(lambda w, obs: agent.policy_net.apply(w.agent_weights.policy_weights, obs).entropy())\n",
    "\n",
    "num_steps = []\n",
    "policy_entropies = []\n",
    "for _ in range(500 * 20):\n",
    "    states, weights, seed = step_fn(states, weights, seed)\n",
    "    num_steps.append(states.num_steps)\n",
    "    policy_entropies.append(\n",
    "        jnp.mean(compute_policy_entropy(weights, states.observation)))"
   ]
  },
  {
   "cell_type": "code",
   "execution_count": 9,
   "metadata": {},
   "outputs": [],
   "source": [
    "policy_entropies = jnp.array(policy_entropies)\n",
    "num_steps = jnp.array(num_steps)"
   ]
  },
  {
   "cell_type": "code",
   "execution_count": 10,
   "metadata": {},
   "outputs": [
    {
     "data": {
      "text/plain": [
       "Text(0.5, 1.0, 'Mean policy entropy')"
      ]
     },
     "execution_count": 10,
     "metadata": {},
     "output_type": "execute_result"
    },
    {
     "data": {
      "image/png": "[encoded data removed]",
      "text/plain": [
       "<Figure size 432x288 with 1 Axes>"
      ]
     },
     "metadata": {
      "needs_background": "light"
     },
     "output_type": "display_data"
    }
   ],
   "source": [
    "plt.plot(policy_entropies, label='actual')\n",
    "plt.plot(jnp.ones(policy_entropies.shape[:1]) * jnp.log(2), label='uniform')\n",
    "plt.plot(jnp.ones(policy_entropies.shape[:1]) * -(0.9 * jnp.log(0.9) + 0.1 * jnp.log(0.1)), label='9:1')\n",
    "plt.legend()\n",
    "plt.title('Mean policy entropy')"
   ]
  },
  {
   "cell_type": "code",
   "execution_count": 11,
   "metadata": {},
   "outputs": [
    {
     "name": "stdout",
     "output_type": "stream",
     "text": [
      "After training:\n",
      "Values of initial states: SummaryStats(mean='288.2708', std='0.22363967', median='288.2685', min='287.86133', max='288.68488')\n",
      "Values of 'dangerous' states: SummaryStats(mean='325.42014', std='0.1366044', median='325.427', min='325.1472', max='325.68408')\n"
     ]
    }
   ],
   "source": [
    "initial_values = agent.value_net.apply(weights.agent_weights.value_weights, initial_observations)\n",
    "dangerous_state_values = agent.value_net.apply(weights.agent_weights.value_weights, dangerous_states)\n",
    "\n",
    "print(\"After training:\")\n",
    "print(\"Values of initial states:\", util.format_summary(initial_values))\n",
    "print(\"Values of 'dangerous' states:\", util.format_summary(dangerous_state_values))"
   ]
  },
  {
   "cell_type": "code",
   "execution_count": 12,
   "metadata": {},
   "outputs": [
    {
     "data": {
      "text/plain": [
       "<Figure size 432x288 with 0 Axes>"
      ]
     },
     "execution_count": 12,
     "metadata": {},
     "output_type": "execute_result"
    },
    {
     "data": {
      "image/png": "[encoded data removed]",
      "text/plain": [
       "<Figure size 432x288 with 1 Axes>"
      ]
     },
     "metadata": {
      "needs_background": "light"
     },
     "output_type": "display_data"
    },
    {
     "data": {
      "text/plain": [
       "<Figure size 432x288 with 0 Axes>"
      ]
     },
     "metadata": {},
     "output_type": "display_data"
    }
   ],
   "source": [
    "render_batch_idx = 0\n",
    "\n",
    "plt.plot(num_steps[:, render_batch_idx])\n",
    "plt.title('Episode length')\n",
    "plt.figure()\n"
   ]
  },
  {
   "cell_type": "code",
   "execution_count": 39,
   "metadata": {},
   "outputs": [],
   "source": [
    "qps = []\n",
    "for _ in range(500):\n",
    "    states, weights, seed = step_fn(states, weights, seed)\n",
    "    qps.append(jax.tree_util.tree_map(lambda x: x[render_batch_idx], states.unobserved))"
   ]
  },
  {
   "cell_type": "code",
   "execution_count": 41,
   "metadata": {},
   "outputs": [],
   "source": [
    "from IPython import display\n",
    "from brax.io import html as brax_html\n",
    "from brax.io import image as brax_image\n",
    "\n",
    "d = None\n",
    "if False:  # Renders slow down VSCode so only do it if explicitly requested.\n",
    "    d = display.HTML(\n",
    "        brax_html.render(env._brax_env.sys, qps))\n",
    "d"
   ]
  },
  {
   "cell_type": "code",
   "execution_count": null,
   "metadata": {},
   "outputs": [],
   "source": []
  }
 ],
 "metadata": {
  "interpreter": {
   "hash": "8de8719117e400c327b4fafa7a7e75b9e540f0988ea8268f694e1905bc07b7a4"
  },
  "kernelspec": {
   "display_name": "Python 3.8.10 ('.venv': venv)",
   "language": "python",
   "name": "python3"
  },
  "language_info": {
   "codemirror_mode": {
    "name": "ipython",
    "version": 3
   },
   "file_extension": ".py",
   "mimetype": "text/x-python",
   "name": "python",
   "nbconvert_exporter": "python",
   "pygments_lexer": "ipython3",
   "version": "3.8.10"
  }
 },
 "nbformat": 4,
 "nbformat_minor": 2
}
