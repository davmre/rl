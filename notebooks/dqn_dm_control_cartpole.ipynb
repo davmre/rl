{
 "cells": [
  {
   "cell_type": "code",
   "execution_count": 1,
   "metadata": {},
   "outputs": [
    {
     "name": "stderr",
     "output_type": "stream",
     "text": [
      "/home/davmre/rl/.venv/lib/python3.8/site-packages/glfw/__init__.py:906: GLFWError: (65544) b'X11: The DISPLAY environment variable is missing'\n",
      "  warnings.warn(message, GLFWError)\n"
     ]
    },
    {
     "name": "stdout",
     "output_type": "stream",
     "text": [
      "Initialized virtual display.\n"
     ]
    }
   ],
   "source": [
    "import dataclasses\n",
    "import functools\n",
    "\n",
    "import jax\n",
    "from jax import numpy as jnp\n",
    "import numpy as np\n",
    "\n",
    "from flax import linen\n",
    "from flax import struct\n",
    "import optax\n",
    "from tensorflow_probability.substrates import jax as tfp\n",
    "\n",
    "tfb = tfp.bijectors\n",
    "tfd = tfp.distributions\n",
    "\n",
    "from dm_control import suite\n",
    "from matplotlib import pylab as plt\n",
    "\n",
    "import daves_rl_lib\n",
    "from daves_rl_lib import networks\n",
    "from daves_rl_lib.algorithms import deep_q_network\n",
    "from daves_rl_lib.environments import dm_control_environment\n",
    "from daves_rl_lib.environments import environment_lib\n",
    "from daves_rl_lib.internal import video_util\n",
    "\n",
    "video_util.initialize_virtual_display()"
   ]
  },
  {
   "cell_type": "code",
   "execution_count": 2,
   "metadata": {},
   "outputs": [],
   "source": [
    "buffer_size = 2048\n",
    "epsilon = optax.exponential_decay(\n",
    "    init_value=0.9,\n",
    "    transition_steps=2000,\n",
    "    decay_rate=0.1,\n",
    "    end_value=1e-3)\n",
    "discount_factor = 0.999\n",
    "learning_rate = optax.piecewise_constant_schedule(\n",
    "    init_value=0.01,\n",
    "    boundaries_and_scales={2000: 0.5, 5000: 0.5, 10000: 0.5, 15000: 0.5})\n",
    "gradient_batch_size = 32\n",
    "target_weights_decay = 0.99"
   ]
  },
  {
   "cell_type": "code",
   "execution_count": 18,
   "metadata": {},
   "outputs": [],
   "source": [
    "def vector_from_categorical(action):\n",
    "    return jnp.float32(action[..., None] * 2. - 1.)\n",
    "\n",
    "env = dm_control_environment.DMControlEnvironment(\n",
    "    suite.load('cartpole', task_name='balance'),\n",
    "    discount_factor=discount_factor,\n",
    "    action_transform_fn=vector_from_categorical,\n",
    "    action_space=environment_lib.ActionSpace(num_actions=2),\n",
    "    max_episode_length=200)\n"
   ]
  },
  {
   "cell_type": "code",
   "execution_count": 19,
   "metadata": {},
   "outputs": [
    {
     "data": {
      "text/plain": [
       "BoundedArray(shape=(1,), dtype=dtype('float64'), name=None, minimum=[-1.], maximum=[1.])"
      ]
     },
     "execution_count": 19,
     "metadata": {},
     "output_type": "execute_result"
    }
   ],
   "source": [
    "env._dm_env.action_spec()"
   ]
  },
  {
   "cell_type": "code",
   "execution_count": 20,
   "metadata": {},
   "outputs": [],
   "source": [
    "\n",
    "\n",
    "agent = deep_q_network.DQNAgent(\n",
    "    qvalue_net=networks.make_model([24, 24, 2],\n",
    "                                   obs_size=env.observation_size),\n",
    "    qvalue_optimizer=optax.adam(learning_rate),\n",
    "    replay_buffer_size=buffer_size,\n",
    "    target_weights_decay=target_weights_decay,\n",
    "    gradient_batch_size=gradient_batch_size,\n",
    "    discount_factor=discount_factor,\n",
    "    epsilon=epsilon)"
   ]
  },
  {
   "cell_type": "code",
   "execution_count": null,
   "metadata": {},
   "outputs": [],
   "source": []
  },
  {
   "cell_type": "code",
   "execution_count": 21,
   "metadata": {},
   "outputs": [],
   "source": [
    "seed = jax.random.PRNGKey(0)\n",
    "seed, weights_init_seed, state_init_seed = jax.random.split(seed, 3)\n",
    "\n",
    "state = env.reset(seed=state_init_seed)\n",
    "initial_state_observation = state.observation\n",
    "\n",
    "weights = agent.init_weights(seed=weights_init_seed,\n",
    "                             dummy_observation=state.observation,\n",
    "                             dummy_action=env.action_space.dummy_action())"
   ]
  },
  {
   "cell_type": "code",
   "execution_count": 22,
   "metadata": {},
   "outputs": [],
   "source": [
    "agent.qvalue_net.apply(weights.qvalue_weights, state.observation)\n",
    "\n",
    "d = agent.action_dist(weights, state.observation)"
   ]
  },
  {
   "cell_type": "code",
   "execution_count": 23,
   "metadata": {},
   "outputs": [],
   "source": [
    "import time\n",
    "\n",
    "select_action = jax.jit(\n",
    "    lambda w, obs, s: agent.action_dist(w, obs).sample(seed=s))\n",
    "update = jax.jit(agent.update)"
   ]
  },
  {
   "cell_type": "code",
   "execution_count": 24,
   "metadata": {},
   "outputs": [
    {
     "name": "stdout",
     "output_type": "stream",
     "text": [
      "Finished episode 0 of length 200 in  3.15s with return 89.53146362304688.\n",
      "Finished episode 1 of length 200 in  1.97s with return 92.10225677490234.\n",
      "Finished episode 2 of length 200 in  1.99s with return 95.24983215332031.\n",
      "Finished episode 3 of length 200 in  1.83s with return 94.43358612060547.\n",
      "Finished episode 4 of length 200 in  1.75s with return 118.93509674072266.\n",
      "Finished episode 5 of length 200 in  1.75s with return 94.30689239501953.\n",
      "Finished episode 6 of length 200 in  1.91s with return 130.90342712402344.\n",
      "Finished episode 7 of length 200 in  2.01s with return 108.82194519042969.\n",
      "Finished episode 8 of length 200 in  1.78s with return 110.31379699707031.\n",
      "Finished episode 9 of length 200 in  1.79s with return 135.8825225830078.\n",
      "Finished episode 10 of length 200 in  2.00s with return 122.62732696533203.\n",
      "Finished episode 11 of length 200 in  1.97s with return 130.11415100097656.\n",
      "Finished episode 12 of length 200 in  1.76s with return 100.26620483398438.\n",
      "Finished episode 13 of length 200 in  1.81s with return 111.44152069091797.\n",
      "Finished episode 14 of length 200 in  1.94s with return 99.06249237060547.\n",
      "Finished episode 15 of length 200 in  1.92s with return 138.2316131591797.\n",
      "Finished episode 16 of length 200 in  1.78s with return 143.76026916503906.\n",
      "Finished episode 17 of length 200 in  1.78s with return 141.35028076171875.\n",
      "Finished episode 18 of length 200 in  2.02s with return 142.19558715820312.\n",
      "Finished episode 19 of length 200 in  1.97s with return 97.53726959228516.\n",
      "Finished episode 20 of length 200 in  1.75s with return 129.42420959472656.\n",
      "Finished episode 21 of length 200 in  1.72s with return 81.13031768798828.\n",
      "Finished episode 22 of length 200 in  1.89s with return 142.0670928955078.\n",
      "Finished episode 23 of length 200 in  1.71s with return 123.91788482666016.\n",
      "Finished episode 24 of length 200 in  1.91s with return 104.62689971923828.\n",
      "Finished episode 25 of length 200 in  2.25s with return 133.4924774169922.\n",
      "Finished episode 26 of length 200 in  1.98s with return 131.7842254638672.\n",
      "Finished episode 27 of length 200 in  2.03s with return 126.34555053710938.\n",
      "Finished episode 28 of length 200 in  1.76s with return 144.0860137939453.\n",
      "Finished episode 29 of length 200 in  2.19s with return 135.4622344970703.\n",
      "Finished episode 30 of length 200 in  1.86s with return 128.2040557861328.\n",
      "Finished episode 31 of length 200 in  2.35s with return 130.11593627929688.\n",
      "Finished episode 32 of length 200 in  1.72s with return 141.48147583007812.\n",
      "Finished episode 33 of length 200 in  2.02s with return 124.19998931884766.\n",
      "Finished episode 34 of length 200 in  1.95s with return 98.89486694335938.\n",
      "Finished episode 35 of length 200 in  1.90s with return 111.96158599853516.\n",
      "Finished episode 36 of length 200 in  1.90s with return 134.50889587402344.\n",
      "Finished episode 37 of length 200 in  1.70s with return 144.59732055664062.\n",
      "Finished episode 38 of length 200 in  1.78s with return 129.20579528808594.\n",
      "Finished episode 39 of length 200 in  1.97s with return 144.1879119873047.\n",
      "Finished episode 40 of length 200 in  1.74s with return 143.00875854492188.\n",
      "Finished episode 41 of length 200 in  1.91s with return 108.7122802734375.\n",
      "Finished episode 42 of length 200 in  1.83s with return 132.6448516845703.\n",
      "Finished episode 43 of length 200 in  1.69s with return 144.24696350097656.\n",
      "Finished episode 44 of length 200 in  1.92s with return 105.71331787109375.\n",
      "Finished episode 45 of length 200 in  1.99s with return 99.70897674560547.\n",
      "Finished episode 46 of length 200 in  1.71s with return 142.07969665527344.\n",
      "Finished episode 47 of length 200 in  2.04s with return 144.6544647216797.\n",
      "Finished episode 48 of length 200 in  1.75s with return 129.0015411376953.\n",
      "Finished episode 49 of length 200 in  2.01s with return 118.0781021118164.\n",
      "Finished episode 50 of length 200 in  1.84s with return 127.7686996459961.\n",
      "Finished episode 51 of length 200 in  2.04s with return 102.24295043945312.\n",
      "Finished episode 52 of length 200 in  1.87s with return 144.3941192626953.\n",
      "Finished episode 53 of length 200 in  1.76s with return 123.1292724609375.\n",
      "Finished episode 54 of length 200 in  2.03s with return 120.3048324584961.\n",
      "Finished episode 55 of length 200 in  1.70s with return 141.99337768554688.\n",
      "Finished episode 56 of length 200 in  2.15s with return 132.89208984375.\n",
      "Finished episode 57 of length 200 in  1.72s with return 142.89447021484375.\n",
      "Finished episode 58 of length 200 in  1.90s with return 142.97764587402344.\n",
      "Finished episode 59 of length 200 in  1.76s with return 117.00215911865234.\n",
      "Finished episode 60 of length 200 in  1.83s with return 114.12266540527344.\n",
      "Finished episode 61 of length 200 in  1.69s with return 114.44845581054688.\n",
      "Finished episode 62 of length 200 in  1.93s with return 103.19214630126953.\n",
      "Finished episode 63 of length 200 in  1.78s with return 103.88433837890625.\n",
      "Finished episode 64 of length 200 in  2.01s with return 134.6378936767578.\n",
      "Finished episode 65 of length 200 in  1.79s with return 112.1170883178711.\n",
      "Finished episode 66 of length 200 in  1.74s with return 136.32151794433594.\n",
      "Finished episode 67 of length 200 in  2.00s with return 140.24415588378906.\n",
      "Finished episode 68 of length 200 in  1.93s with return 137.81251525878906.\n",
      "Finished episode 69 of length 200 in  1.79s with return 124.43206024169922.\n",
      "Finished episode 70 of length 200 in  1.81s with return 140.6132354736328.\n",
      "Finished episode 71 of length 200 in  2.00s with return 138.48680114746094.\n",
      "Finished episode 72 of length 200 in  2.16s with return 140.65171813964844.\n",
      "Finished episode 73 of length 200 in  2.47s with return 137.13226318359375.\n",
      "Finished episode 74 of length 200 in  2.96s with return 135.51876831054688.\n",
      "Finished episode 75 of length 200 in  1.86s with return 130.26602172851562.\n",
      "Finished episode 76 of length 200 in  2.76s with return 144.10389709472656.\n",
      "Finished episode 77 of length 200 in  3.15s with return 135.31443786621094.\n",
      "Finished episode 78 of length 200 in  2.75s with return 142.95518493652344.\n",
      "Finished episode 79 of length 200 in  1.76s with return 135.4195098876953.\n",
      "Finished episode 80 of length 200 in  1.79s with return 135.01734924316406.\n",
      "Finished episode 81 of length 200 in  2.09s with return 143.72035217285156.\n",
      "Finished episode 82 of length 200 in  1.95s with return 129.8405303955078.\n",
      "Finished episode 83 of length 200 in  2.42s with return 139.4567108154297.\n",
      "Finished episode 84 of length 200 in  2.62s with return 139.43788146972656.\n",
      "Finished episode 85 of length 200 in  2.44s with return 142.90316772460938.\n",
      "Finished episode 86 of length 200 in  1.99s with return 142.6345672607422.\n",
      "Finished episode 87 of length 200 in  2.06s with return 143.3738250732422.\n",
      "Finished episode 88 of length 200 in  3.24s with return 144.060302734375.\n",
      "Finished episode 89 of length 200 in  2.09s with return 144.51031494140625.\n",
      "Finished episode 90 of length 200 in  1.94s with return 144.91099548339844.\n",
      "Finished episode 91 of length 200 in  1.90s with return 143.76873779296875.\n",
      "Finished episode 92 of length 200 in  2.46s with return 144.7925262451172.\n",
      "Finished episode 93 of length 200 in  2.36s with return 143.8582763671875.\n",
      "Finished episode 94 of length 200 in  3.04s with return 144.0796661376953.\n",
      "Finished episode 95 of length 200 in  2.47s with return 144.23573303222656.\n",
      "Finished episode 96 of length 200 in  3.05s with return 144.88511657714844.\n",
      "Finished episode 97 of length 200 in  2.87s with return 144.48785400390625.\n",
      "Finished episode 98 of length 200 in  2.74s with return 144.89620971679688.\n",
      "Finished episode 99 of length 200 in  2.51s with return 144.76739501953125.\n"
     ]
    }
   ],
   "source": [
    "\n",
    "durations = []\n",
    "returns = []\n",
    "\n",
    "for episode in range(100):\n",
    "    seed, state_init_seed = jax.random.split(seed, 2)\n",
    "    state = env.reset(seed=state_init_seed)\n",
    "    t0 = time.time()\n",
    "    num_steps = 0\n",
    "    while not state.done:\n",
    "        seed, action_seed, env_seed = jax.random.split(seed, 3)\n",
    "        action = select_action(weights, state.observation, action_seed)\n",
    "        next_state = env.step(action)\n",
    "        weights = update(weights,\n",
    "                         transition=environment_lib.Transition(\n",
    "                            observation=state.observation,\n",
    "                            action=action,\n",
    "                            next_observation=next_state.observation,\n",
    "                            reward=next_state.reward,\n",
    "                            done=next_state.done)\n",
    "                        )\n",
    "        state = next_state\n",
    "        num_steps += 1\n",
    "    print(f\"Finished episode {episode} of length {num_steps} in {time.time() - t0 : .2f}s with return {state.episode_return}.\")\n",
    "    durations.append(num_steps)\n",
    "    returns.append(state.episode_return)\n"
   ]
  },
  {
   "cell_type": "code",
   "execution_count": 25,
   "metadata": {},
   "outputs": [
    {
     "data": {
      "text/plain": [
       "Text(0.5, 1.0, 'Episode returns')"
      ]
     },
     "execution_count": 25,
     "metadata": {},
     "output_type": "execute_result"
    },
    {
     "data": {
      "image/png": "[encoded data removed]",
      "text/plain": [
       "<Figure size 432x288 with 1 Axes>"
      ]
     },
     "metadata": {
      "needs_background": "light"
     },
     "output_type": "display_data"
    }
   ],
   "source": [
    "plt.plot(returns)\n",
    "plt.title('Episode returns')"
   ]
  },
  {
   "cell_type": "code",
   "execution_count": 26,
   "metadata": {},
   "outputs": [
    {
     "name": "stdout",
     "output_type": "stream",
     "text": [
      "Estimated value [139.31062 138.74718]\n"
     ]
    }
   ],
   "source": [
    "print(\"Estimated value\", agent._qvalue_net.apply(weights.qvalue_weights, initial_state_observation))\n"
   ]
  },
  {
   "cell_type": "code",
   "execution_count": null,
   "metadata": {},
   "outputs": [],
   "source": []
  }
 ],
 "metadata": {
  "interpreter": {
   "hash": "8de8719117e400c327b4fafa7a7e75b9e540f0988ea8268f694e1905bc07b7a4"
  },
  "kernelspec": {
   "display_name": "Python 3.8.10 ('.venv': venv)",
   "language": "python",
   "name": "python3"
  },
  "language_info": {
   "codemirror_mode": {
    "name": "ipython",
    "version": 3
   },
   "file_extension": ".py",
   "mimetype": "text/x-python",
   "name": "python",
   "nbconvert_exporter": "python",
   "pygments_lexer": "ipython3",
   "version": "3.8.10"
  }
 },
 "nbformat": 4,
 "nbformat_minor": 2
}
