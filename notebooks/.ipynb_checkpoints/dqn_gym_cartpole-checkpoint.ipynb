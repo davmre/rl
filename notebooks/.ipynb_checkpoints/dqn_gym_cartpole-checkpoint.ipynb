{
 "cells": [
  {
   "cell_type": "code",
   "execution_count": 1,
   "metadata": {},
   "outputs": [],
   "source": [
    "import dataclasses\n",
    "import functools\n",
    "\n",
    "import jax\n",
    "from jax import numpy as jnp\n",
    "import numpy as np\n",
    "\n",
    "from flax import linen\n",
    "from flax import struct\n",
    "import optax\n",
    "from tensorflow_probability.substrates import jax as tfp\n",
    "\n",
    "tfb = tfp.bijectors\n",
    "tfd = tfp.distributions\n",
    "\n",
    "import gym\n",
    "\n",
    "import daves_rl_lib\n",
    "from daves_rl_lib import networks\n",
    "from daves_rl_lib.environments import environment_lib\n",
    "from daves_rl_lib.algorithms import deep_q_network"
   ]
  },
  {
   "cell_type": "code",
   "execution_count": 5,
   "metadata": {},
   "outputs": [],
   "source": [
    "import pyvirtualdisplay\n",
    "import cv2\n",
    "\n",
    "_display = pyvirtualdisplay.Display(visible=False,  # use False with Xvfb\n",
    "                                    size=(600, 400))\n",
    "_ = _display.start()"
   ]
  },
  {
   "cell_type": "code",
   "execution_count": 2,
   "metadata": {},
   "outputs": [],
   "source": [
    "buffer_size = 64\n",
    "epsilon = 0.1\n",
    "discount_factor = 0.6\n",
    "learning_rate = 0.1"
   ]
  },
  {
   "cell_type": "code",
   "execution_count": 3,
   "metadata": {},
   "outputs": [],
   "source": [
    "env = environment_lib.GymEnvironment(\n",
    "    gym.make(\"CartPole-v1\"), discount_factor=discount_factor)\n",
    "qvalue_net = networks.make_model([env.action_space.num_actions],\n",
    "                                 obs_size=env.observation_size)\n",
    "qvalue_optimizer = optax.adam(learning_rate)\n",
    "learner = deep_q_network.initialize_learner(\n",
    "    env=env,\n",
    "    qvalue_net=qvalue_net,\n",
    "    qvalue_optimizer=qvalue_optimizer,\n",
    "    buffer_size=buffer_size,\n",
    "    batch_size=None,\n",
    "    seed=jax.random.PRNGKey(0))\n",
    "\n",
    "step_learner = deep_q_network.compile_deep_q_update_step_stateful(\n",
    "    env=env,\n",
    "    qvalue_net=qvalue_net,\n",
    "    qvalue_optimizer=qvalue_optimizer,\n",
    "    gradient_batch_size=8,\n",
    "    target_weights_decay=0.9,\n",
    "    epsilon=epsilon)\n",
    "initial_obs = learner.agent_states.observation"
   ]
  },
  {
   "cell_type": "code",
   "execution_count": 6,
   "metadata": {},
   "outputs": [],
   "source": [
    "actions = []\n",
    "done = []\n",
    "observations = []\n",
    "images = []\n",
    "for step in range(256):\n",
    "    learner = step_learner(learner)\n",
    "    actions.append(learner.last_action)\n",
    "    done.append(learner.agent_states.done)\n",
    "    observations.append(learner.agent_states.observation)\n",
    "    images.append(env._gym_env.render(mode=\"rgb_array\"))"
   ]
  },
  {
   "cell_type": "code",
   "execution_count": 7,
   "metadata": {},
   "outputs": [
    {
     "name": "stdout",
     "output_type": "stream",
     "text": [
      "Estimated value [2.2625456 2.5740664]\n",
      "Mean reward 1.0\n"
     ]
    }
   ],
   "source": [
    "print(\"Estimated value\", qvalue_net.apply(learner.qvalue_weights, initial_obs))\n",
    "print(\"Mean reward\", np.mean(\n",
    "            learner.replay_buffer.valid_transitions().next_state.reward))"
   ]
  },
  {
   "cell_type": "code",
   "execution_count": 8,
   "metadata": {},
   "outputs": [],
   "source": [
    "height, width = images[0].shape[:-1]\n",
    "out = cv2.VideoWriter('/tmp/cartpole2.avi',cv2.VideoWriter_fourcc('X', 'V', 'I', 'D'), 15, frameSize=(width, height))"
   ]
  },
  {
   "cell_type": "code",
   "execution_count": 9,
   "metadata": {},
   "outputs": [],
   "source": [
    "for i in range(len(images)):\n",
    "    out.write(images[i])\n",
    "out.release()"
   ]
  },
  {
   "cell_type": "code",
   "execution_count": 17,
   "metadata": {},
   "outputs": [],
   "source": [
    "from IPython import display"
   ]
  },
  {
   "cell_type": "code",
   "execution_count": 20,
   "metadata": {
    "scrolled": true
   },
   "outputs": [
    {
     "data": {
      "text/html": [
       "<video src=\"/tmp/cartpole2.avi\" controls  >\n",
       "      Your browser does not support the <code>video</code> element.\n",
       "    </video>"
      ],
      "text/plain": [
       "<IPython.core.display.Video object>"
      ]
     },
     "execution_count": 20,
     "metadata": {},
     "output_type": "execute_result"
    }
   ],
   "source": [
    "display.Video(filename='/tmp/cartpole2.avi')"
   ]
  },
  {
   "cell_type": "code",
   "execution_count": 23,
   "metadata": {},
   "outputs": [
    {
     "name": "stderr",
     "output_type": "stream",
     "text": [
      "ffmpeg version 4.2.7-0ubuntu0.1 Copyright (c) 2000-2022 the FFmpeg developers\n",
      "  built with gcc 9 (Ubuntu 9.4.0-1ubuntu1~20.04.1)\n",
      "  configuration: --prefix=/usr --extra-version=0ubuntu0.1 --toolchain=hardened --libdir=/usr/lib/x86_64-linux-gnu --incdir=/usr/include/x86_64-linux-gnu --arch=amd64 --enable-gpl --disable-stripping --enable-avresample --disable-filter=resample --enable-avisynth --enable-gnutls --enable-ladspa --enable-libaom --enable-libass --enable-libbluray --enable-libbs2b --enable-libcaca --enable-libcdio --enable-libcodec2 --enable-libflite --enable-libfontconfig --enable-libfreetype --enable-libfribidi --enable-libgme --enable-libgsm --enable-libjack --enable-libmp3lame --enable-libmysofa --enable-libopenjpeg --enable-libopenmpt --enable-libopus --enable-libpulse --enable-librsvg --enable-librubberband --enable-libshine --enable-libsnappy --enable-libsoxr --enable-libspeex --enable-libssh --enable-libtheora --enable-libtwolame --enable-libvidstab --enable-libvorbis --enable-libvpx --enable-libwavpack --enable-libwebp --enable-libx265 --enable-libxml2 --enable-libxvid --enable-libzmq --enable-libzvbi --enable-lv2 --enable-omx --enable-openal --enable-opencl --enable-opengl --enable-sdl2 --enable-libdc1394 --enable-libdrm --enable-libiec61883 --enable-nvenc --enable-chromaprint --enable-frei0r --enable-libx264 --enable-shared\n",
      "  libavutil      56. 31.100 / 56. 31.100\n",
      "  libavcodec     58. 54.100 / 58. 54.100\n",
      "  libavformat    58. 29.100 / 58. 29.100\n",
      "  libavdevice    58.  8.100 / 58.  8.100\n",
      "  libavfilter     7. 57.100 /  7. 57.100\n",
      "  libavresample   4.  0.  0 /  4.  0.  0\n",
      "  libswscale      5.  5.100 /  5.  5.100\n",
      "  libswresample   3.  5.100 /  3.  5.100\n",
      "  libpostproc    55.  5.100 / 55.  5.100\n",
      "Input #0, avi, from '/tmp/cartpole2.avi':\n",
      "  Metadata:\n",
      "    encoder         : Lavf58.76.100\n",
      "  Duration: 00:00:17.07, start: 0.000000, bitrate: 119 kb/s\n",
      "    Stream #0:0: Video: mpeg4 (Simple Profile) (FMP4 / 0x34504D46), yuv420p, 600x400 [SAR 1:1 DAR 3:2], 114 kb/s, 15 fps, 15 tbr, 15 tbn, 15 tbc\n",
      "Stream mapping:\n",
      "  Stream #0:0 -> #0:0 (mpeg4 (native) -> h264 (libx264))\n",
      "Press [q] to stop, [?] for help\n",
      "[libx264 @ 0x561b1fc4d280] using SAR=1/1\n",
      "[libx264 @ 0x561b1fc4d280] using cpu capabilities: MMX2 SSE2Fast SSSE3 SSE4.2 AVX FMA3 BMI2 AVX2\n",
      "[libx264 @ 0x561b1fc4d280] profile High, level 2.2\n",
      "[libx264 @ 0x561b1fc4d280] 264 - core 155 r2917 0a84d98 - H.264/MPEG-4 AVC codec - Copyleft 2003-2018 - http://www.videolan.org/x264.html - options: cabac=1 ref=3 deblock=1:0:0 analyse=0x3:0x113 me=hex subme=7 psy=1 psy_rd=1.00:0.00 mixed_ref=1 me_range=16 chroma_me=1 trellis=1 8x8dct=1 cqm=0 deadzone=21,11 fast_pskip=1 chroma_qp_offset=-2 threads=6 lookahead_threads=1 sliced_threads=0 nr=0 decimate=1 interlaced=0 bluray_compat=0 constrained_intra=0 bframes=3 b_pyramid=2 b_adapt=1 b_bias=0 direct=1 weightb=1 open_gop=0 weightp=2 keyint=250 keyint_min=15 scenecut=40 intra_refresh=0 rc_lookahead=40 rc=crf mbtree=1 crf=23.0 qcomp=0.60 qpmin=0 qpmax=69 qpstep=4 ip_ratio=1.40 aq=1:1.00\n",
      "Output #0, mp4, to '/tmp/result_compressed.mp4':\n",
      "  Metadata:\n",
      "    encoder         : Lavf58.29.100\n",
      "    Stream #0:0: Video: h264 (libx264) (avc1 / 0x31637661), yuv420p, 600x400 [SAR 1:1 DAR 3:2], q=-1--1, 15 fps, 15360 tbn, 15 tbc\n",
      "    Metadata:\n",
      "      encoder         : Lavc58.54.100 libx264\n",
      "    Side data:\n",
      "      cpb: bitrate max/min/avg: 0/0/0 buffer size: 0 vbv_delay: -1\n",
      "frame=  256 fps=0.0 q=-1.0 Lsize=      39kB time=00:00:16.86 bitrate=  19.0kbits/s speed=65.6x    \n",
      "video:35kB audio:0kB subtitle:0kB other streams:0kB global headers:0kB muxing overhead: 10.374061%\n",
      "[libx264 @ 0x561b1fc4d280] frame I:2     Avg QP: 8.14  size:   689\n",
      "[libx264 @ 0x561b1fc4d280] frame P:88    Avg QP:15.47  size:   235\n",
      "[libx264 @ 0x561b1fc4d280] frame B:166   Avg QP:17.21  size:    82\n",
      "[libx264 @ 0x561b1fc4d280] consecutive B-frames:  7.0% 14.1% 16.4% 62.5%\n",
      "[libx264 @ 0x561b1fc4d280] mb I  I16..4: 97.7%  0.1%  2.2%\n",
      "[libx264 @ 0x561b1fc4d280] mb P  I16..4:  0.2%  0.2%  0.1%  P16..4:  1.5%  0.8%  0.2%  0.0%  0.0%    skip:97.0%\n",
      "[libx264 @ 0x561b1fc4d280] mb B  I16..4:  0.1%  0.0%  0.0%  B16..8:  1.7%  0.5%  0.1%  direct: 0.0%  skip:97.6%  L0:54.6% L1:41.0% BI: 4.4%\n",
      "[libx264 @ 0x561b1fc4d280] 8x8 transform intra:6.4% inter:12.8%\n",
      "[libx264 @ 0x561b1fc4d280] coded y,uvDC,uvAC intra: 3.8% 8.7% 7.0% inter: 0.2% 0.2% 0.1%\n",
      "[libx264 @ 0x561b1fc4d280] i16 v,h,dc,p: 89%  8%  4%  0%\n",
      "[libx264 @ 0x561b1fc4d280] i8 v,h,dc,ddl,ddr,vr,hd,vl,hu: 16%  8% 74%  1%  0%  0%  0%  0%  0%\n",
      "[libx264 @ 0x561b1fc4d280] i4 v,h,dc,ddl,ddr,vr,hd,vl,hu: 59%  8% 30%  1%  1%  2%  0%  0%  0%\n",
      "[libx264 @ 0x561b1fc4d280] i8c dc,h,v,p: 83%  3% 14%  0%\n",
      "[libx264 @ 0x561b1fc4d280] Weighted P-Frames: Y:0.0% UV:0.0%\n",
      "[libx264 @ 0x561b1fc4d280] ref P L0: 76.2%  2.3% 12.4%  9.1%\n",
      "[libx264 @ 0x561b1fc4d280] ref B L0: 87.8% 10.1%  2.1%\n",
      "[libx264 @ 0x561b1fc4d280] ref B L1: 97.7%  2.3%\n",
      "[libx264 @ 0x561b1fc4d280] kb/s:16.71\n"
     ]
    },
    {
     "data": {
      "text/plain": [
       "0"
      ]
     },
     "execution_count": 23,
     "metadata": {},
     "output_type": "execute_result"
    }
   ],
   "source": [
    "import os\n",
    "save_path = '/tmp/cartpole2.avi'\n",
    "compressed_path = \"/tmp/result_compressed.mp4\"\n",
    "\n",
    "os.system(f\"ffmpeg -i {save_path} -vcodec libx264 {compressed_path}\")"
   ]
  },
  {
   "cell_type": "code",
   "execution_count": 24,
   "metadata": {},
   "outputs": [
    {
     "data": {
      "text/html": [
       "<video width=600 controls><source src=\"data:video/mp4;base64,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\"></video>"
      ],
      "text/plain": [
       "<IPython.core.display.HTML object>"
      ]
     },
     "execution_count": 24,
     "metadata": {},
     "output_type": "execute_result"
    }
   ],
   "source": [
    "from IPython.display import HTML\n",
    "from base64 import b64encode\n",
    " \n",
    "def show_video(video_path, video_width = 600):\n",
    "   \n",
    "  video_file = open(video_path, \"r+b\").read()\n",
    " \n",
    "  video_url = f\"data:video/mp4;base64,{b64encode(video_file).decode()}\"\n",
    "  return HTML(f\"\"\"<video width={video_width} controls><source src=\"{video_url}\"></video>\"\"\")\n",
    " \n",
    "show_video(compressed_path)"
   ]
  },
  {
   "cell_type": "code",
   "execution_count": null,
   "metadata": {},
   "outputs": [],
   "source": []
  },
  {
   "cell_type": "code",
   "execution_count": null,
   "metadata": {},
   "outputs": [],
   "source": []
  }
 ],
 "metadata": {
  "interpreter": {
   "hash": "8de8719117e400c327b4fafa7a7e75b9e540f0988ea8268f694e1905bc07b7a4"
  },
  "kernelspec": {
   "display_name": "rl-venv",
   "language": "python",
   "name": "rl-venv"
  },
  "language_info": {
   "codemirror_mode": {
    "name": "ipython",
    "version": 3
   },
   "file_extension": ".py",
   "mimetype": "text/x-python",
   "name": "python",
   "nbconvert_exporter": "python",
   "pygments_lexer": "ipython3",
   "version": "3.8.10"
  }
 },
 "nbformat": 4,
 "nbformat_minor": 2
}
