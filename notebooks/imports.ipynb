{
 "cells": [
  {
   "cell_type": "code",
   "execution_count": 2,
   "metadata": {},
   "outputs": [],
   "source": [
    "import dataclasses\n",
    "import functools\n",
    "\n",
    "import jax\n",
    "from jax import numpy as jnp\n",
    "import numpy as np\n",
    "\n",
    "from flax import linen\n",
    "from flax import struct\n",
    "import optax\n",
    "from tensorflow_probability.substrates import jax as tfp\n",
    "\n",
    "tfb = tfp.bijectors\n",
    "tfd = tfp.distributions\n",
    "\n",
    "import gym\n",
    "from matplotlib import pylab as plt  # type: ignore\n",
    "\n",
    "import daves_rl_lib\n",
    "from daves_rl_lib import networks\n",
    "from daves_rl_lib.environments import environment_lib\n",
    "from daves_rl_lib.internal import video_util\n",
    "\n",
    "video_util.initialize_virtual_display()"
   ]
  }
 ],
 "metadata": {
  "interpreter": {
   "hash": "8de8719117e400c327b4fafa7a7e75b9e540f0988ea8268f694e1905bc07b7a4"
  },
  "kernelspec": {
   "display_name": "Python 3.8.10 ('.venv': venv)",
   "language": "python",
   "name": "python3"
  },
  "language_info": {
   "codemirror_mode": {
    "name": "ipython",
    "version": 3
   },
   "file_extension": ".py",
   "mimetype": "text/x-python",
   "name": "python",
   "nbconvert_exporter": "python",
   "pygments_lexer": "ipython3",
   "version": "3.8.10"
  },
  "orig_nbformat": 4
 },
 "nbformat": 4,
 "nbformat_minor": 2
}
